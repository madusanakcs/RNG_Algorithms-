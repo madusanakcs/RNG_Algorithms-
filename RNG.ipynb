{
 "cells": [
  {
   "cell_type": "markdown",
   "metadata": {},
   "source": [
    "# Middle Square Method"
   ]
  },
  {
   "cell_type": "code",
   "execution_count": 18,
   "metadata": {},
   "outputs": [
    {
     "name": "stdout",
     "output_type": "stream",
     "text": [
      "[260846, 678841, 263602, 766537, 831547, 19321, 373301, 914683, 873632, 271307, 593044, 486132, 101120, 635319, 96694, 759795, 762824, 79870, 84249, 492040, 585193, 146536, 2037, 4149, 17214, 296321, 906789, 927536, 329572, 243520, 827551, 940857, 448631, 593688, 278123, 42991, 848226, 67158, 215229, 921117, 946996, 846740, 290910, 270717, 273250, 651118, 247112, 934798, 968939, 755052, 127127, 18595, 345774, 699425, 430941, 26551, 704955, 254654, 424150, 485403, 607128, 762779, 11217, 125821, 348945, 503528, 137376, 692296, 762585, 715297, 548689, 411908, 130491, 151968, 619436, 448868, 380981, 882365, 178912, 944732, 834645, 847574, 122147, 34987, 224090, 323279, 430096, 298975, 808262, 452431, 464620, 123379, 957491, 960981, 66513, 129011, 536031, 433575, 991280, 911472, 852518, 937467, 623919, 567105, 514466, 612707, 747713, 728981, 162646, 683917, 408972, 245627, 203080, 708186, 983763, 421998, 988652, 819766, 1396, 1948, 3794, 14394, 207187, 23219, 539121, 406323, 889623, 155099, 714103, 158013, 801695, 530221, 961434, 937367, 811402, 243209, 978924, 514490, 588012, 134238, 839971, 176644, 138331, 955596, 664318, 63226, 297440, 723759, 158920, 514237, 848280, 975547, 790790, 716401, 129284, 465516, 956781, 601847, 442558, 710912, 410269, 816927, 649792, 322848, 151616, 512574, 739100, 807963, 30819, 949810, 195903, 276720, 735452, 276234, 4188, 17539, 307616, 138322, 953106, 122019, 3734, 13942, 194379, 871510, 679531, 94088, 262617, 248211, 479158, 959122, 792009, 213030, 862859, 496311, 511472, 389398, 306947, 272819, 415762, 59348, 772782, 191565, 957556, 85459, 286693, 588497, 563631, 147675, 333069, 734190, 130923, 39037, 523887, 420318, 573561, 740261, 769465, 629100, 629818, 533721, 390264, 982134, 780447, 787836, 84695, 416691, 832697, 894559, 371887, 860987, 730728, 387465, 194729, 735322, 467435, 547852, 505896, 767274, 298871, 870438, 748067, 258488, 903430, 141978, 317083, 757381, 899638, 894679, 586595, 496310, 510480, 403174, 659482, 124811, 602083, 726686, 208434, 495059, 270277, 35212, 239884, 709758, 245244, 15077, 227315, 132501, 376645, 127535, 914692, 857167, 295858, 632610, 763453, 255069, 635685, 368493, 651862, 277695, 194898, 669475, 520176, 131, 17, 0, 0, 0, 0, 0, 0, 0, 0, 0, 0, 0, 0, 0, 0, 0, 0, 0, 0, 0, 0, 0, 0, 0, 0, 0, 0, 0, 0, 0, 0, 0, 0, 0, 0, 0, 0, 0, 0, 0, 0, 0, 0, 0, 0, 0, 0, 0, 0, 0, 0, 0, 0, 0, 0, 0, 0, 0, 0, 0, 0, 0, 0, 0, 0, 0, 0, 0, 0, 0, 0, 0, 0, 0, 0, 0, 0, 0, 0, 0, 0, 0, 0, 0, 0, 0, 0, 0, 0, 0, 0, 0, 0, 0, 0, 0, 0, 0, 0, 0, 0, 0, 0, 0, 0, 0, 0, 0, 0, 0, 0, 0, 0, 0, 0, 0, 0, 0, 0, 0, 0, 0, 0, 0, 0, 0, 0, 0, 0, 0, 0, 0, 0, 0, 0, 0, 0, 0, 0, 0, 0, 0, 0, 0, 0, 0, 0, 0, 0, 0, 0, 0, 0, 0, 0, 0, 0, 0, 0, 0, 0, 0, 0, 0, 0, 0, 0, 0, 0, 0, 0, 0, 0, 0, 0, 0, 0, 0, 0, 0, 0, 0, 0, 0, 0, 0, 0, 0, 0, 0, 0, 0, 0, 0, 0, 0, 0, 0, 0, 0, 0, 0, 0, 0, 0, 0, 0, 0, 0, 0, 0, 0, 0, 0, 0, 0, 0, 0, 0, 0, 0, 0, 0, 0, 0, 0, 0, 0, 0, 0, 0, 0, 0, 0, 0, 0, 0, 0, 0, 0, 0, 0, 0, 0, 0, 0, 0, 0, 0, 0, 0, 0, 0, 0, 0, 0, 0, 0, 0, 0, 0, 0, 0, 0, 0, 0, 0, 0, 0, 0, 0, 0, 0, 0, 0, 0, 0, 0, 0, 0, 0, 0, 0, 0, 0, 0, 0, 0, 0, 0, 0, 0, 0, 0, 0, 0, 0, 0, 0, 0, 0, 0, 0, 0, 0, 0, 0, 0, 0, 0, 0, 0, 0, 0, 0, 0, 0, 0, 0, 0, 0, 0, 0, 0, 0, 0, 0, 0, 0, 0, 0, 0, 0, 0, 0, 0, 0, 0, 0, 0, 0, 0, 0, 0, 0, 0, 0, 0, 0, 0, 0, 0, 0, 0, 0, 0, 0, 0, 0, 0, 0, 0, 0, 0, 0, 0, 0, 0, 0, 0, 0, 0, 0, 0, 0, 0, 0, 0, 0, 0, 0, 0, 0, 0, 0, 0, 0, 0, 0, 0, 0, 0, 0, 0, 0, 0, 0, 0, 0, 0, 0, 0, 0, 0, 0, 0, 0, 0, 0, 0, 0, 0, 0, 0, 0, 0, 0, 0, 0, 0, 0, 0, 0, 0, 0, 0, 0, 0, 0, 0, 0, 0, 0, 0, 0, 0, 0, 0, 0, 0, 0, 0, 0, 0, 0, 0, 0, 0, 0, 0, 0, 0, 0, 0, 0, 0, 0, 0, 0, 0, 0, 0, 0, 0, 0, 0, 0, 0, 0, 0, 0, 0, 0, 0, 0, 0, 0, 0, 0, 0, 0, 0, 0, 0, 0, 0, 0, 0, 0, 0, 0, 0, 0, 0, 0, 0, 0, 0, 0, 0, 0, 0, 0, 0, 0, 0, 0, 0, 0, 0, 0, 0, 0, 0, 0, 0, 0, 0, 0, 0, 0, 0, 0, 0, 0, 0, 0, 0, 0, 0, 0, 0, 0, 0, 0, 0, 0, 0, 0, 0, 0, 0, 0, 0, 0, 0, 0, 0, 0, 0, 0, 0, 0, 0, 0, 0, 0, 0, 0, 0, 0, 0, 0, 0, 0, 0, 0, 0, 0, 0, 0, 0, 0, 0, 0, 0, 0, 0, 0, 0, 0, 0, 0, 0, 0, 0, 0, 0, 0, 0, 0, 0, 0, 0, 0, 0, 0, 0, 0, 0, 0, 0, 0, 0, 0, 0, 0, 0, 0, 0, 0, 0, 0, 0, 0, 0, 0, 0, 0, 0, 0, 0, 0, 0, 0, 0, 0, 0, 0, 0, 0, 0, 0, 0, 0, 0, 0, 0, 0, 0, 0, 0, 0, 0, 0, 0, 0, 0, 0, 0, 0, 0, 0, 0, 0, 0, 0, 0, 0, 0, 0, 0, 0, 0, 0, 0, 0, 0, 0, 0, 0, 0, 0, 0, 0, 0, 0, 0, 0, 0, 0, 0, 0, 0, 0, 0, 0, 0, 0, 0, 0, 0, 0, 0, 0, 0, 0, 0, 0, 0, 0, 0, 0, 0, 0, 0, 0, 0, 0, 0, 0, 0, 0, 0, 0, 0, 0, 0]\n"
     ]
    }
   ],
   "source": [
    "import numpy as np\n",
    "\n",
    "def middle_square(seed, num_digits=8):\n",
    "    \"\"\"\n",
    "    Implements the Middle Square method for random number generation.\n",
    "    Ensures the seed has an appropriate number of digits.\n",
    "    \n",
    "    :param seed: The initial seed value (integer)\n",
    "    :param num_digits: The number of digits to extract from the squared value\n",
    "    :return: The next pseudo-random number\n",
    "    \"\"\"\n",
    "    seed = np.square(seed)\n",
    "    seed_str = str(seed).zfill(num_digits * 2)  # Ensuring length consistency\n",
    "    mid_start = (len(seed_str) - num_digits) // 2\n",
    "\n",
    "    new_seed = int(seed_str[mid_start:mid_start + num_digits])\n",
    "    \n",
    "    return new_seed\n",
    "\n",
    "def repeat_middle_square(seed, iterations, num_digits=8):\n",
    "    \"\"\"\n",
    "    Repeats the Middle Square method for a given number of iterations.\n",
    "    \n",
    "    :param seed: The initial seed value (integer)\n",
    "    :param iterations: Number of times to repeat the process\n",
    "    :param num_digits: The number of digits to extract in each iteration\n",
    "    :return: List of generated pseudo-random numbers\n",
    "    \"\"\"\n",
    "    results = []\n",
    "    for _ in range(iterations):\n",
    "        seed = middle_square(seed, num_digits)\n",
    "        results.append(seed)\n",
    "    return results\n",
    "\n",
    "\n",
    "first_input_seed = 12345678\n",
    "iterations = 1000\n",
    "num_digits = 6\n",
    "    \n",
    "print(repeat_middle_square(first_input_seed, iterations, num_digits))"
   ]
  },
  {
   "cell_type": "markdown",
   "metadata": {},
   "source": [
    "# Mersenne-Twister Method"
   ]
  },
  {
   "cell_type": "code",
   "execution_count": 26,
   "metadata": {},
   "outputs": [
    {
     "name": "stdout",
     "output_type": "stream",
     "text": [
      "2 3\n",
      "3 7\n",
      "5 31\n",
      "7 127\n",
      "11 2047\n",
      "13 8191\n"
     ]
    }
   ],
   "source": [
    "# Mersenne Prime\n",
    "\n",
    "def Prime(n):\n",
    "    \"\"\"\n",
    "    Returns the n-th prime number.\n",
    "    \n",
    "    :param n: The prime number to calculate\n",
    "    :return: The n-th prime number\n",
    "    \"\"\"\n",
    "    primes = []\n",
    "    i = 2\n",
    "    while len(primes) < n:\n",
    "        if all(i % p != 0 for p in primes):\n",
    "            primes.append(i)\n",
    "        i += 1\n",
    "    return primes[-1]\n",
    "\n",
    "def mersenne_prime(p):\n",
    "    \"\"\"\n",
    "    Returns the p-th Mersenne prime number.\n",
    "    \n",
    "    :param p: The prime number to calculate\n",
    "    :return: The p-th Mersenne prime number\n",
    "    \"\"\"\n",
    "    return 2 ** p - 1\n",
    "\n",
    "p = Prime(2)\n",
    "\n",
    "for i in range(1, 7):\n",
    "    p = Prime(i)\n",
    "    mersenne = mersenne_prime(p)\n",
    "    print(p, mersenne)\n",
    "\n"
   ]
  },
  {
   "cell_type": "code",
   "execution_count": 28,
   "metadata": {},
   "outputs": [
    {
     "name": "stdout",
     "output_type": "stream",
     "text": [
      "717381398\n",
      "2613746198\n",
      "3039020996\n",
      "2783877634\n",
      "1449960212\n",
      "843186105\n",
      "3943758696\n",
      "2184015040\n",
      "1001786940\n",
      "347606340\n"
     ]
    }
   ],
   "source": [
    "import numpy as np\n",
    "\n",
    "# Mersenne Twister Constants\n",
    "N = 624\n",
    "M = 397\n",
    "W, R = 32, 31\n",
    "UMASK = (0xffffffff << R) & 0xffffffff  # Upper mask\n",
    "LMASK = (0xffffffff >> (W - R)) & 0xffffffff  # Lower mask\n",
    "A = 0x9908b0df\n",
    "U, S, T, L = 11, 7, 15, 18\n",
    "B, C = 0x9d2c5680, 0xefc60000\n",
    "F = 1812433253\n",
    "\n",
    "class MersenneTwister:\n",
    "    def __init__(self, seed: int):\n",
    "        \"\"\"Initialize the state array with a given seed.\"\"\"\n",
    "        self.state = np.zeros(N, dtype=np.uint32)\n",
    "        self.index = 0\n",
    "        self.state[0] = seed & 0xffffffff  # Ensure 32-bit value\n",
    "        for i in range(1, N):\n",
    "            self.state[i] = (F * (self.state[i - 1] ^ (self.state[i - 1] >> (W - 2))) + i) & 0xffffffff\n",
    "\n",
    "    def twist(self):\n",
    "        \"\"\"Generate the next batch of N numbers.\"\"\"\n",
    "        for i in range(N):\n",
    "            x = (self.state[i] & UMASK) | (self.state[(i + 1) % N] & LMASK)\n",
    "            xA = x >> 1\n",
    "            if x & 1:\n",
    "                xA ^= A\n",
    "            self.state[i] = self.state[(i + M) % N] ^ xA\n",
    "        self.index = 0\n",
    "\n",
    "    def random_uint32(self) -> int:\n",
    "        \"\"\"Extract a tempered 32-bit unsigned integer.\"\"\"\n",
    "        if self.index >= N:\n",
    "            self.twist()\n",
    "        \n",
    "        x = self.state[self.index]\n",
    "        self.index += 1\n",
    "        \n",
    "        # Tempering transformation\n",
    "        x ^= (x >> U)\n",
    "        x ^= (x << S) & B\n",
    "        x ^= (x << T) & C\n",
    "        x ^= (x >> L)\n",
    "        \n",
    "        return x & 0xffffffff  # Ensure 32-bit output\n",
    "\n",
    "# Example usage\n",
    "if __name__ == \"__main__\":\n",
    "    seed =1958\n",
    "    mt = MersenneTwister(seed)\n",
    "    for _ in range(10):\n",
    "        print(mt.random_uint32())\n"
   ]
  },
  {
   "cell_type": "markdown",
   "metadata": {},
   "source": [
    "# Xorshift RNG "
   ]
  },
  {
   "cell_type": "code",
   "execution_count": 31,
   "metadata": {},
   "outputs": [
    {
     "name": "stdout",
     "output_type": "stream",
     "text": [
      "270369\n",
      "67634689\n",
      "2647435461\n",
      "307599695\n",
      "2398689233\n",
      "745495504\n",
      "632435482\n",
      "435756210\n",
      "2005365029\n",
      "2916098932\n"
     ]
    }
   ],
   "source": [
    "class Xorshift:\n",
    "    def __init__(self, seed=123456789):\n",
    "        self.state = seed\n",
    "\n",
    "    def next(self):\n",
    "        self.state ^= (self.state << 13) & 0xFFFFFFFF\n",
    "        self.state ^= (self.state >> 17) & 0xFFFFFFFF\n",
    "        self.state ^= (self.state << 5) & 0xFFFFFFFF\n",
    "        return self.state & 0xFFFFFFFF\n",
    "    \n",
    "\n",
    "# Example usage\n",
    "if __name__ == \"__main__\":\n",
    "    seed = 1\n",
    "    xorshift = Xorshift(seed)\n",
    "    for _ in range(10):\n",
    "        print(xorshift.next())\n"
   ]
  },
  {
   "cell_type": "markdown",
   "metadata": {},
   "source": [
    "# Xoroshiro128+ "
   ]
  },
  {
   "cell_type": "code",
   "execution_count": 32,
   "metadata": {},
   "outputs": [
    {
     "name": "stdout",
     "output_type": "stream",
     "text": [
      "3\n",
      "36029003177443331\n",
      "78883775479546723\n",
      "11565523463456473958\n",
      "4278675278564983812\n",
      "2632050899502238788\n",
      "16893485035822040972\n",
      "16434345214534112303\n",
      "14645897510349533472\n",
      "15582988425284987434\n"
     ]
    }
   ],
   "source": [
    "class Xoroshiro128Plus:\n",
    "    def __init__(self, seed1=123456789, seed2=987654321):\n",
    "        self.s0 = seed1\n",
    "        self.s1 = seed2\n",
    "\n",
    "    def next(self):\n",
    "        s0 = self.s0\n",
    "        s1 = self.s1\n",
    "        result = (s0 + s1) & 0xFFFFFFFFFFFFFFFF\n",
    "        s1 ^= s0\n",
    "        self.s0 = ((s0 << 55) | (s0 >> (64 - 55))) ^ s1 ^ (s1 << 14)\n",
    "        self.s1 = (s1 << 36) | (s1 >> (64 - 36))\n",
    "        return result\n",
    "\n",
    "# Example usage\n",
    "if __name__ == \"__main__\":\n",
    "    seed1, seed2 = 1, 2\n",
    "    xoroshiro = Xoroshiro128Plus(seed1, seed2)\n",
    "    for _ in range(10):\n",
    "        print(xoroshiro.next())"
   ]
  },
  {
   "cell_type": "markdown",
   "metadata": {},
   "source": [
    "# SFC RNG (Small Fast Chaotic)"
   ]
  },
  {
   "cell_type": "code",
   "execution_count": 33,
   "metadata": {},
   "outputs": [
    {
     "name": "stdout",
     "output_type": "stream",
     "text": [
      "7\n",
      "4108\n",
      "8400923\n",
      "25202732\n",
      "75561008\n",
      "130084947\n",
      "125950045\n",
      "247591062\n",
      "260274390\n",
      "465907909\n"
     ]
    }
   ],
   "source": [
    "class SFC_RNG:\n",
    "    def __init__(self, seed1, seed2, seed3):\n",
    "        self.s0 = seed1 & 0xFFFFFFFF\n",
    "        self.s1 = seed2 & 0xFFFFFFFF\n",
    "        self.s2 = seed3 & 0xFFFFFFFF\n",
    "        self.counter = 1\n",
    "\n",
    "    def next(self):\n",
    "        self.s2 += self.counter\n",
    "        self.counter += 1\n",
    "        result = (self.s0 + self.s1 + self.s2) & 0xFFFFFFFF\n",
    "        self.s0 = self.s1 ^ (self.s1 >> 9)\n",
    "        self.s1 = (self.s1 << 11) + self.s2\n",
    "        return result\n",
    "    \n",
    "\n",
    "# Example usage\n",
    "if __name__ == \"__main__\":\n",
    "    seed1, seed2, seed3 = 1, 2, 3\n",
    "    sfc_rng = SFC_RNG(seed1, seed2, seed3)\n",
    "    for _ in range(10):\n",
    "        print(sfc_rng.next())\n"
   ]
  },
  {
   "cell_type": "code",
   "execution_count": 34,
   "metadata": {},
   "outputs": [
    {
     "ename": "ModuleNotFoundError",
     "evalue": "No module named 'cryptography'",
     "output_type": "error",
     "traceback": [
      "\u001b[31m---------------------------------------------------------------------------\u001b[39m",
      "\u001b[31mModuleNotFoundError\u001b[39m                       Traceback (most recent call last)",
      "\u001b[36mCell\u001b[39m\u001b[36m \u001b[39m\u001b[32mIn[34]\u001b[39m\u001b[32m, line 71\u001b[39m\n\u001b[32m     69\u001b[39m \u001b[38;5;66;03m# ChaCha20 RNG\u001b[39;00m\n\u001b[32m     70\u001b[39m \u001b[38;5;28;01mfrom\u001b[39;00m\u001b[38;5;250m \u001b[39m\u001b[34;01msecrets\u001b[39;00m\u001b[38;5;250m \u001b[39m\u001b[38;5;28;01mimport\u001b[39;00m token_bytes\n\u001b[32m---> \u001b[39m\u001b[32m71\u001b[39m \u001b[38;5;28;01mfrom\u001b[39;00m\u001b[38;5;250m \u001b[39m\u001b[34;01mcryptography\u001b[39;00m\u001b[34;01m.\u001b[39;00m\u001b[34;01mhazmat\u001b[39;00m\u001b[34;01m.\u001b[39;00m\u001b[34;01mprimitives\u001b[39;00m\u001b[34;01m.\u001b[39;00m\u001b[34;01mciphers\u001b[39;00m\u001b[38;5;250m \u001b[39m\u001b[38;5;28;01mimport\u001b[39;00m Cipher, algorithms, modes\n\u001b[32m     73\u001b[39m \u001b[38;5;28;01mdef\u001b[39;00m\u001b[38;5;250m \u001b[39m\u001b[34mchacha20_rng\u001b[39m(n=\u001b[32m10000\u001b[39m, seed=\u001b[33mb\u001b[39m\u001b[33m\"\u001b[39m\u001b[33m0123456789abcdef\u001b[39m\u001b[33m\"\u001b[39m * \u001b[32m2\u001b[39m):\n\u001b[32m     74\u001b[39m     key = seed[:\u001b[32m32\u001b[39m]  \u001b[38;5;66;03m# 256-bit key\u001b[39;00m\n",
      "\u001b[31mModuleNotFoundError\u001b[39m: No module named 'cryptography'"
     ]
    }
   ],
   "source": [
    "import numpy as np\n",
    "import random\n",
    "import time\n",
    "import matplotlib.pyplot as plt\n",
    "from numpy.random import MT19937, PCG64, Philox, SFC64\n",
    "\n",
    "# Linear Congruential Generator (LCG)\n",
    "def lcg(seed=42, a=1664525, c=1013904223, m=2**32, n=10000):\n",
    "    rand_nums = []\n",
    "    x = seed\n",
    "    for _ in range(n):\n",
    "        x = (a * x + c) % m\n",
    "        rand_nums.append(x / m)  # Normalize\n",
    "    return rand_nums\n",
    "\n",
    "# Xorshift\n",
    "class Xorshift:\n",
    "    def __init__(self, seed=42):\n",
    "        self.state = seed\n",
    "    \n",
    "    def next(self):\n",
    "        self.state ^= (self.state << 13) & 0xFFFFFFFFFFFFFFFF\n",
    "        self.state ^= (self.state >> 7) & 0xFFFFFFFFFFFFFFFF\n",
    "        self.state ^= (self.state << 17) & 0xFFFFFFFFFFFFFFFF\n",
    "        return self.state / 0xFFFFFFFFFFFFFFFF\n",
    "\n",
    "def xorshift_rng(n=10000, seed=42):\n",
    "    rng = Xorshift(seed)\n",
    "    return [rng.next() for _ in range(n)]\n",
    "\n",
    "# Xoroshiro128+\n",
    "from random import Random\n",
    "\n",
    "def xoroshiro128p(seed=42, n=10000):\n",
    "    rng = Random(seed)\n",
    "    return [rng.random() for _ in range(n)]\n",
    "\n",
    "# PCG (Permuted Congruential Generator)\n",
    "def pcg_rng(n=10000):\n",
    "    rng = np.random.Generator(PCG64())\n",
    "    return rng.random(n)\n",
    "\n",
    "# Mersenne Twister (MT19937)\n",
    "def mt_rng(n=10000):\n",
    "    rng = np.random.Generator(MT19937())\n",
    "    return rng.random(n)\n",
    "\n",
    "# Small Fast Chaotic (SFC64)\n",
    "def sfc_rng(n=10000):\n",
    "    rng = np.random.Generator(SFC64())\n",
    "    return rng.random(n)\n",
    "\n",
    "# SplitMix64\n",
    "class SplitMix64:\n",
    "    def __init__(self, seed=42):\n",
    "        self.state = seed\n",
    "    \n",
    "    def next(self):\n",
    "        self.state = (self.state + 0x9E3779B97F4A7C15) & 0xFFFFFFFFFFFFFFFF\n",
    "        z = self.state\n",
    "        z = (z ^ (z >> 30)) * 0xBF58476D1CE4E5B9 & 0xFFFFFFFFFFFFFFFF\n",
    "        z = (z ^ (z >> 27)) * 0x94D049BB133111EB & 0xFFFFFFFFFFFFFFFF\n",
    "        return (z ^ (z >> 31)) / 0xFFFFFFFFFFFFFFFF\n",
    "\n",
    "def splitmix_rng(n=10000, seed=42):\n",
    "    rng = SplitMix64(seed)\n",
    "    return [rng.next() for _ in range(n)]\n",
    "\n",
    "# ChaCha20 RNG\n",
    "from secrets import token_bytes\n",
    "from cryptography.hazmat.primitives.ciphers import Cipher, algorithms, modes\n",
    "\n",
    "def chacha20_rng(n=10000, seed=b\"0123456789abcdef\" * 2):\n",
    "    key = seed[:32]  # 256-bit key\n",
    "    nonce = seed[:12]  # 96-bit nonce\n",
    "    cipher = Cipher(algorithms.ChaCha20(key, nonce), mode=None)\n",
    "    encryptor = cipher.encryptor()\n",
    "    rand_nums = [int.from_bytes(encryptor.update(token_bytes(4)), 'big') / 0xFFFFFFFF for _ in range(n)]\n",
    "    return rand_nums\n",
    "\n",
    "# Timing and Visualization\n",
    "def evaluate_rng(rng_func, name):\n",
    "    start_time = time.time()\n",
    "    numbers = rng_func()\n",
    "    duration = time.time() - start_time\n",
    "    print(f\"{name} generated {len(numbers)} numbers in {duration:.6f} seconds\")\n",
    "    plt.hist(numbers, bins=50, alpha=0.6, label=name)\n",
    "\n",
    "rng_functions = [\n",
    "    (lambda: lcg(), \"LCG\"),\n",
    "    (lambda: xorshift_rng(), \"Xorshift\"),\n",
    "    (lambda: xoroshiro128p(), \"Xoroshiro128+\"),\n",
    "    (lambda: pcg_rng(), \"PCG\"),\n",
    "    (lambda: mt_rng(), \"Mersenne Twister\"),\n",
    "    (lambda: sfc_rng(), \"SFC64\"),\n",
    "    (lambda: splitmix_rng(), \"SplitMix64\"),\n",
    "    (lambda: chacha20_rng(), \"ChaCha20\"),\n",
    "]\n",
    "\n",
    "plt.figure(figsize=(12, 6))\n",
    "for func, name in rng_functions:\n",
    "    evaluate_rng(func, name)\n",
    "plt.legend()\n",
    "plt.show()\n"
   ]
  },
  {
   "cell_type": "markdown",
   "metadata": {},
   "source": [
    "# 🎲 Game RNG Algorithms – Comparison Table\n",
    "\n",
    "| **Algorithm** | **Best For** | **Speed ⚡** | **Memory 💾** | **Randomness 🎲** | **Period Length 🔄** | **Used In** |\n",
    "|--------------|-------------|-------------|--------------|-----------------|-----------------|------------|\n",
    "| **Linear Congruential Generator (LCG)** | Simple random numbers | 🚀 **Fastest** | 🟢 **Low** | ❌ Weak (repeating patterns) | 🔁 \\(2^{32}\\) or less | Retro games, simple dice rolls |\n",
    "| **Xorshift** | Fast real-time RNG | 🚀 **Very Fast** | 🟢 **Low** | ❌ Moderate (fails some tests) | 🔁 \\(2^{128}\\) | Game AI, physics, general game RNG |\n",
    "| **Xoroshiro128+** | Procedural generation, AI | 🚀 **Fast** | 🟢 **Low** | ✅ Strong | 🔁 \\(2^{128}\\) | Modern game engines |\n",
    "| **PCG (Permuted Congruential Generator)** | Fair randomness, AI, loot drops | 🚀 **Fast** | 🟢 **Low** | ✅ Very High | 🔁 \\(2^{64} - 1\\) | Unity, Unreal Engine |\n",
    "| **Mersenne Twister (MT19937)** | Large-scale simulations, loot drops | 🐢 **Slow** | 🔴 **High (2.5KB)** | ✅ Very High | 🔁 \\(2^{19937}-1\\) | RPGs, turn-based games, roguelikes |\n",
    "| **SFC (Small Fast Chaotic)** | Real-time games, physics, procedural gen | 🚀 **Ultra Fast** | 🟢 **Low** | ✅ Very High | 🔁 \\(2^{256}\\) | Modern game engines |\n",
    "| **SplitMix64** | High-quality randomness | 🚀 **Fast** | 🟢 **Low** | ✅ Very High | 🔁 \\(2^{64}\\) | Game world generation |\n",
    "| **ChaCha20 RNG** | Secure randomness (cryptography) | 🐢 **Slow** | 🔴 **High** | ✅ Cryptographic-grade | 🔁 **Unknown (secure)** | Casino games, multiplayer fairness |\n"
   ]
  }
 ],
 "metadata": {
  "kernelspec": {
   "display_name": "Python 3",
   "language": "python",
   "name": "python3"
  },
  "language_info": {
   "codemirror_mode": {
    "name": "ipython",
    "version": 3
   },
   "file_extension": ".py",
   "mimetype": "text/x-python",
   "name": "python",
   "nbconvert_exporter": "python",
   "pygments_lexer": "ipython3",
   "version": "3.12.6"
  }
 },
 "nbformat": 4,
 "nbformat_minor": 2
}
